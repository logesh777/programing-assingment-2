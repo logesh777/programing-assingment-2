{
 "cells": [
  {
   "cell_type": "code",
   "execution_count": 2,
   "id": "78ec790b",
   "metadata": {},
   "outputs": [
    {
     "name": "stdout",
     "output_type": "stream",
     "text": [
      "enter the values in kms: 45\n",
      "45.00 kms is equal to 27.96 miles\n"
     ]
    }
   ],
   "source": [
    "#phython program to convert kilometers to miles\n",
    "kilometers = float(input('enter the values in kms: '))\n",
    "conv_fac = 0.621371\n",
    "miles = kilometers * conv_fac\n",
    "print('%0.2f kms is equal to %0.2f miles' %(kilometers,miles))"
   ]
  },
  {
   "cell_type": "code",
   "execution_count": 5,
   "id": "910b064d",
   "metadata": {},
   "outputs": [
    {
     "name": "stdout",
     "output_type": "stream",
     "text": [
      "enter the values in celsius: 37.5\n",
      "37.50 degree Celsius is equal to 99.50 degree fahrenheit\n"
     ]
    }
   ],
   "source": [
    "#phython program to convert celsius to fahrenheit\n",
    "celsius = float(input('enter the values in celsius: '))\n",
    "fahrenheit = (celsius * 1.8) + 32\n",
    "print('%0.2f degree Celsius is equal to %0.2f degree fahrenheit' %(celsius,fahrenheit))"
   ]
  },
  {
   "cell_type": "code",
   "execution_count": 6,
   "id": "4791187c",
   "metadata": {},
   "outputs": [
    {
     "name": "stdout",
     "output_type": "stream",
     "text": [
      "enter the year: 1999\n",
      "enter the month: 3\n",
      "     March 1999\n",
      "Mo Tu We Th Fr Sa Su\n",
      " 1  2  3  4  5  6  7\n",
      " 8  9 10 11 12 13 14\n",
      "15 16 17 18 19 20 21\n",
      "22 23 24 25 26 27 28\n",
      "29 30 31\n",
      "\n"
     ]
    }
   ],
   "source": [
    "#phython program to display calender\n",
    "import calendar\n",
    "yy = int(input('enter the year: '))\n",
    "mm = int(input('enter the month: '))\n",
    "print(calendar.month(yy,mm))"
   ]
  },
  {
   "cell_type": "code",
   "execution_count": 8,
   "id": "9b0cb488",
   "metadata": {},
   "outputs": [
    {
     "name": "stdout",
     "output_type": "stream",
     "text": [
      "enter the value a = 8\n",
      "enter the value b = 9\n",
      "enter the value c = 10\n",
      "the solutions are(-0.5625-0.9662265521087692j) and (-0.5625+0.9662265521087692j)\n"
     ]
    }
   ],
   "source": [
    "#phython program to solve quadratic eqaution\n",
    "import cmath\n",
    "\n",
    "a = int(input('enter the value a = '))\n",
    "b = int(input('enter the value b = '))\n",
    "c = int(input('enter the value c = '))\n",
    "d = (b**2) - (4*a*c)\n",
    "sol1 = (-b-cmath.sqrt(d))/(2*a)\n",
    "sol2 = (-b+cmath.sqrt(d))/(2*a)\n",
    "print('the solutions are{0} and {1}'.format(sol1,sol2))\n"
   ]
  },
  {
   "cell_type": "code",
   "execution_count": 9,
   "id": "256c0455",
   "metadata": {},
   "outputs": [
    {
     "name": "stdout",
     "output_type": "stream",
     "text": [
      "Enter first number: 7\n",
      "Enter second number: 8\n",
      "Old value of int1 is 7 and int2 is 8\n",
      "New value of int1 is 8 and int2 is 7\n"
     ]
    }
   ],
   "source": [
    "#phython program to swap two variables without temp variable\n",
    "int1 = int(input(\"Enter first number: \"))\n",
    "int2 = int(input(\"Enter second number: \"))\n",
    "print('Old value of int1 is {0} and int2 is {1}'.format(int1, int2))\n",
    "int1 = int1 + int2\n",
    "int2 = int1 - int2\n",
    "int1 = int1 - int2\n",
    "print('New value of int1 is {0} and int2 is {1}'.format(int1, int2))"
   ]
  },
  {
   "cell_type": "code",
   "execution_count": null,
   "id": "e9372a77",
   "metadata": {},
   "outputs": [],
   "source": []
  }
 ],
 "metadata": {
  "kernelspec": {
   "display_name": "Python 3 (ipykernel)",
   "language": "python",
   "name": "python3"
  },
  "language_info": {
   "codemirror_mode": {
    "name": "ipython",
    "version": 3
   },
   "file_extension": ".py",
   "mimetype": "text/x-python",
   "name": "python",
   "nbconvert_exporter": "python",
   "pygments_lexer": "ipython3",
   "version": "3.10.1"
  }
 },
 "nbformat": 4,
 "nbformat_minor": 5
}
